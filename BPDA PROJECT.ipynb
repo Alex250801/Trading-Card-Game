{
 "cells": [
  {
   "cell_type": "markdown",
   "metadata": {},
   "source": [
    "TRADING CARD GAME (ASSINGMENT 1)"
   ]
  },
  {
   "cell_type": "code",
   "execution_count": null,
   "metadata": {},
   "outputs": [],
   "source": [
    "from pathlib import Path\n",
    "from multiversx_sdk import (Address, Transaction, TransactionComputer,\n",
    "                            RelayedTransactionsFactory, TransactionsFactoryConfig,\n",
    "                            UserSigner, AccountNonceHolder, QueryRunnerAdapter, \n",
    "                            SmartContractQueriesController, ProxyNetworkProvider, \n",
    "                            SmartContractTransactionsOutcomeParser, TransactionsConverter,\n",
    "                            TransactionPayload)\n",
    "from multiversx_sdk import ProxyNetworkProvider\n",
    "from multiversx_sdk.abi import Abi\n",
    "import json\n",
    "import struct\n",
    "import os\n",
    "from dotenv import load_dotenv"
   ]
  },
  {
   "cell_type": "code",
   "execution_count": 15,
   "metadata": {},
   "outputs": [],
   "source": [
    "sender_bech32 = Address.from_bech32(\"erd122huqjpnv8zw0d83pqh6hsyh4lyh4ghx8m0l729ntmvtqxchfpeqcjqyad\")\n",
    "contract_bech32 = Address.from_bech32(\"erd1qqqqqqqqqqqqqpgqrqz7r8yl5dav2z0fgnn302l2w7xynygruvaq76m26j\")\n",
    "metachain_address =Address.from_bech32(\"erd1qqqqqqqqqqqqqqqpqqqqqqqqqqqqqqqqqqqqqqqqqqqqqqqzllls8a5w6u\")\n",
    "network_provider = ProxyNetworkProvider(\"https://devnet-gateway.multiversx.com\")\n",
    "\n",
    "load_dotenv()\n",
    "abi_path = os.getenv(\"ABI_PATH\")\n",
    "pem_path = os.getenv(\"PEM_PATH\")\n",
    "abi = Abi.load(Path(abi_path))\n",
    "signer = UserSigner.from_pem_file(Path(pem_path))\n",
    "VALUE = \"0\"\n",
    "NFT_NAME = \"mihai.vasile2508\"\n",
    "COLLECTION_NAME = \"COLLECTION\"\n",
    "COLLECTION_TICKER = \"RMD\"\n",
    "URI = \"https://www.gettyimages.com/detail/news-photo/real-madrid-players-pose-before-the-uefa-champions-league-news-photo/692652618?adppopup=true\""
   ]
  },
  {
   "cell_type": "markdown",
   "metadata": {},
   "source": [
    "INTERNET CONFIG\n"
   ]
  },
  {
   "cell_type": "code",
   "execution_count": 16,
   "metadata": {},
   "outputs": [],
   "source": [
    "config_network = network_provider.get_network_config()\n",
    "tc = TransactionComputer()"
   ]
  },
  {
   "cell_type": "code",
   "execution_count": 17,
   "metadata": {},
   "outputs": [],
   "source": [
    "query_run = QueryRunnerAdapter(network_provider)\n",
    "query_control = SmartContractQueriesController(query_run)\n",
    "parser = SmartContractTransactionsOutcomeParser()\n",
    "convert = TransactionsConverter()"
   ]
  },
  {
   "cell_type": "markdown",
   "metadata": {},
   "source": [
    "ACCOUNT DETAILS AND NONCE "
   ]
  },
  {
   "cell_type": "code",
   "execution_count": 19,
   "metadata": {},
   "outputs": [],
   "source": [
    "account_details = network_provider.get_account(sender_bech32)\n",
    "nonce = AccountNonceHolder(account_details.nonce)"
   ]
  },
  {
   "cell_type": "markdown",
   "metadata": {},
   "source": [
    "OBTAIN YOUR ASSIGNED NFT\n"
   ]
  },
  {
   "cell_type": "code",
   "execution_count": 39,
   "metadata": {},
   "outputs": [
    {
     "name": "stdout",
     "output_type": "stream",
     "text": [
      "TRANSACTION HASH :  af1fbaeddfc774bc426630fae65ec71768fc4f649d6ef1dcfffc51d4cf785b1d\n"
     ]
    }
   ],
   "source": [
    "current_nonce = 13\n",
    "actual_transaction = Transaction (\n",
    "    receiver = contract_bech32.bech32(), #convert to bech32 string\n",
    "    sender = sender_bech32.bech32(), # convert to bech 32 string\n",
    "    value = VALUE,\n",
    "    gas_limit = 10000000,chain_id=config_network.chain_id,\n",
    "    data=\"getYourNftCardProperties\".encode('utf-8') # convert to byte string\n",
    " )\n",
    "# getting the nonce and signing the transactiono\n",
    "actual_transaction.nonce = current_nonce # nonce.get_nonce_then_increment()\n",
    "actual_transaction.signature = signer.sign(tc.compute_bytes_for_signing(actual_transaction))\n",
    "#Sending the transaction and PRINT HASH\n",
    "HASH_VAL = network_provider.send_transaction(actual_transaction)\n",
    "print(\"TRANSACTION HASH : \", HASH_VAL )"
   ]
  },
  {
   "cell_type": "markdown",
   "metadata": {},
   "source": [
    "CARD"
   ]
  },
  {
   "cell_type": "code",
   "execution_count": null,
   "metadata": {},
   "outputs": [],
   "source": [
    "#VERIFY THE HASH\n",
    "import requests\n",
    "\n",
    "def get_transaction_status(HASH_VAL):\n",
    "    # Endpoint for Devnet transaction details\n",
    "    url = f\"https://devnet-api.multiversx.com/transactions/{transaction_hash}\"\n",
    "    \n",
    "    try:\n",
    "        response = requests.get(url)\n",
    "        if response.status_code == 200:\n",
    "            transaction_data = response.json()\n",
    "            return transaction_data\n",
    "        else:\n",
    "            print(f\"Failed to fetch data. Status code: {response.status_code}\")\n",
    "            return None\n",
    "    except Exception as e:\n",
    "        print(f\"An error occurred: {e}\")\n",
    "        return None\n",
    "\n",
    "# Replace with your actual transaction hash\n",
    "transaction_hash = \"25a512a3e3443a81df877b91c9e3560dc5e6b076ef144b5286f5047861584f4a\"\n",
    "transaction_data = get_transaction_status(transaction_hash)\n",
    "\n",
    "# Pretty print the transaction data\n",
    "if transaction_data:\n",
    "    print(\"Transaction Data (Formatted):\")\n",
    "    print(json.dumps(transaction_data, indent=4))\n",
    "else:\n",
    "    print(\"No data found or an error occurred.\")\n"
   ]
  },
  {
   "cell_type": "code",
   "execution_count": null,
   "metadata": {},
   "outputs": [
    {
     "name": "stdout",
     "output_type": "stream",
     "text": [
      "Current Nonce of the Sender Account: 14\n"
     ]
    }
   ],
   "source": [
    "#VERIFY THE NONCE\n",
    "\n",
    "def get_account_nonce(address):\n",
    "    url = f\"https://devnet-api.multiversx.com/accounts/{address}\"\n",
    "    try:\n",
    "        response = requests.get(url)\n",
    "        if response.status_code == 200:\n",
    "            account_data = response.json()\n",
    "            return account_data.get('nonce', None)\n",
    "        else:\n",
    "            print(f\"Failed to fetch data. Status code: {response.status_code}\")\n",
    "            return None\n",
    "    except Exception as e:\n",
    "        print(f\"An error occurred: {e}\")\n",
    "        return None\n",
    "\n",
    "# Replace with your actual sender address\n",
    "sender_address = \"erd122huqjpnv8zw0d83pqh6hsyh4lyh4ghx8m0l729ntmvtqxchfpeqcjqyad\"\n",
    "current_nonce = get_account_nonce(sender_address)\n",
    "print(\"Current Nonce of the Sender Account:\", current_nonce)\n",
    "\n"
   ]
  },
  {
   "cell_type": "code",
   "execution_count": 12,
   "metadata": {},
   "outputs": [
    {
     "ename": "NameError",
     "evalue": "name 'ProxyNetworkProvider' is not defined",
     "output_type": "error",
     "traceback": [
      "\u001b[1;31m---------------------------------------------------------------------------\u001b[0m",
      "\u001b[1;31mNameError\u001b[0m                                 Traceback (most recent call last)",
      "Cell \u001b[1;32mIn[12], line 1\u001b[0m\n\u001b[1;32m----> 1\u001b[0m network_provider \u001b[38;5;241m=\u001b[39m \u001b[43mProxyNetworkProvider\u001b[49m(\u001b[38;5;124m\"\u001b[39m\u001b[38;5;124mhttps://devnet-gateway.multiversx.com\u001b[39m\u001b[38;5;124m\"\u001b[39m)\n\u001b[0;32m      2\u001b[0m transaction_on_network \u001b[38;5;241m=\u001b[39m network_provider\u001b[38;5;241m.\u001b[39mget_transaction(HASH_VAL)\n\u001b[0;32m      3\u001b[0m response_data \u001b[38;5;241m=\u001b[39m transaction_on_network\u001b[38;5;241m.\u001b[39mcontract_results\u001b[38;5;241m.\u001b[39mitems[\u001b[38;5;241m0\u001b[39m]\u001b[38;5;241m.\u001b[39mdata\n",
      "\u001b[1;31mNameError\u001b[0m: name 'ProxyNetworkProvider' is not defined"
     ]
    }
   ],
   "source": [
    "\n",
    "network_provider = ProxyNetworkProvider(\"https://devnet-gateway.multiversx.com\")\n",
    "transaction_on_network = network_provider.get_transaction(HASH_VAL)\n",
    "response_data = transaction_on_network.contract_results.items[0].data\n",
    "\n",
    "raw_attributes = response_data.split('@')[2]\n",
    "card_attributes = [int(raw_attributes[i]) for i in range(1, len(raw_attributes), 2)]\n",
    "\n",
    "print(card_attributes)"
   ]
  }
 ],
 "metadata": {
  "kernelspec": {
   "display_name": "Python 3",
   "language": "python",
   "name": "python3"
  },
  "language_info": {
   "codemirror_mode": {
    "name": "ipython",
    "version": 3
   },
   "file_extension": ".py",
   "mimetype": "text/x-python",
   "name": "python",
   "nbconvert_exporter": "python",
   "pygments_lexer": "ipython3",
   "version": "3.13.0"
  }
 },
 "nbformat": 4,
 "nbformat_minor": 2
}
