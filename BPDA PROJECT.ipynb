{
 "cells": [
  {
   "cell_type": "markdown",
   "metadata": {},
   "source": [
    "TRADING CARD GAME (ASSINGMENT 1)"
   ]
  },
  {
   "cell_type": "code",
   "execution_count": 2,
   "metadata": {},
   "outputs": [],
   "source": [
    "from pathlib import Path\n",
    "from multiversx_sdk import (Address, Transaction, TransactionComputer,\n",
    "                            RelayedTransactionsFactory, TransactionsFactoryConfig,\n",
    "                            UserSigner, AccountNonceHolder, QueryRunnerAdapter, \n",
    "                            SmartContractQueriesController, ProxyNetworkProvider, \n",
    "                            SmartContractTransactionsOutcomeParser, TransactionsConverter,\n",
    "                            TransactionPayload)\n",
    "from multiversx_sdk import ProxyNetworkProvider\n",
    "from multiversx_sdk.abi import Abi\n",
    "import json\n",
    "import struct\n",
    "import os\n",
    "from dotenv import load_dotenv"
   ]
  },
  {
   "cell_type": "code",
   "execution_count": 3,
   "metadata": {},
   "outputs": [],
   "source": [
    "sender_bech32 = Address.from_bech32(\"erd122huqjpnv8zw0d83pqh6hsyh4lyh4ghx8m0l729ntmvtqxchfpeqcjqyad\")\n",
    "contract_bech32 = Address.from_bech32(\"erd1qqqqqqqqqqqqqpgqrqz7r8yl5dav2z0fgnn302l2w7xynygruvaq76m26j\")\n",
    "metachain_address =Address.from_bech32(\"erd1qqqqqqqqqqqqqqqpqqqqqqqqqqqqqqqqqqqqqqqqqqqqqqqzllls8a5w6u\")\n",
    "network_provider = ProxyNetworkProvider(\"https://devnet-gateway.multiversx.com\")\n",
    "\n",
    "load_dotenv()\n",
    "abi_path = os.getenv(\"ABI_PATH\")\n",
    "pem_path = os.getenv(\"PEM_PATH\")\n",
    "abi = Abi.load(Path(abi_path))\n",
    "signer = UserSigner.from_pem_file(Path(pem_path))\n",
    "VALUE = \"0\"\n",
    "NFT_NAME = \"mihai.vasile2508\"\n",
    "COLLECTION_NAME = \"COLLECTION\"\n",
    "COLLECTION_TICKER = \"RMD\"\n",
    "URI = \"https://www.gettyimages.com/detail/news-photo/real-madrid-players-pose-before-the-uefa-champions-league-news-photo/692652618?adppopup=true\""
   ]
  },
  {
   "cell_type": "markdown",
   "metadata": {},
   "source": [
    "INTERNET CONFIG\n"
   ]
  },
  {
   "cell_type": "code",
   "execution_count": 4,
   "metadata": {},
   "outputs": [],
   "source": [
    "config_network = network_provider.get_network_config()\n",
    "tc = TransactionComputer()"
   ]
  },
  {
   "cell_type": "code",
   "execution_count": 5,
   "metadata": {},
   "outputs": [],
   "source": [
    "query_run = QueryRunnerAdapter(network_provider)\n",
    "query_control = SmartContractQueriesController(query_run)\n",
    "parser = SmartContractTransactionsOutcomeParser()\n",
    "convert = TransactionsConverter()"
   ]
  },
  {
   "cell_type": "markdown",
   "metadata": {},
   "source": [
    "ACCOUNT DETAILS AND NONCE "
   ]
  },
  {
   "cell_type": "code",
   "execution_count": 6,
   "metadata": {},
   "outputs": [],
   "source": [
    "account_details = network_provider.get_account(sender_bech32)\n",
    "nonce = AccountNonceHolder(account_details.nonce)"
   ]
  },
  {
   "cell_type": "markdown",
   "metadata": {},
   "source": [
    "OBTAIN YOUR ASSIGNED NFT\n"
   ]
  },
  {
   "cell_type": "code",
   "execution_count": 12,
   "metadata": {},
   "outputs": [
    {
     "name": "stdout",
     "output_type": "stream",
     "text": [
      "TRANSACTION HASH :  8b14330e1530524be2f29ae4b640b45be8941de40c28408a122d1a2f5fb140d9\n"
     ]
    }
   ],
   "source": [
    "actual_transaction = Transaction (\n",
    "    receiver = contract_bech32.bech32(), #convert to bech32 string\n",
    "    sender = sender_bech32.bech32(), # convert to bech 32 string\n",
    "    value = VALUE,\n",
    "    gas_limit = 10000000,chain_id=config_network.chain_id,\n",
    "    data=\"getYourNftCardProperties\".encode('utf-8') # convert to byte string\n",
    " )\n",
    "# getting the nonce and signing the transactiono\n",
    "actual_transaction.nonce = nonce.get_nonce_then_increment()\n",
    "actual_transaction.signature = signer.sign(tc.compute_bytes_for_signing(actual_transaction))\n",
    "#Sending the transaction and PRINT HASH\n",
    "HASH_VAL = network_provider.send_transaction(actual_transaction)\n",
    "print(\"TRANSACTION HASH : \", HASH_VAL )"
   ]
  },
  {
   "cell_type": "markdown",
   "metadata": {},
   "source": [
    "Verifying the Nonce"
   ]
  },
  {
   "cell_type": "code",
   "execution_count": 8,
   "metadata": {},
   "outputs": [
    {
     "name": "stdout",
     "output_type": "stream",
     "text": [
      "An error occurred: name 'request' is not defined\n",
      "Current Nonce of the Sender Account: None\n"
     ]
    }
   ],
   "source": [
    "#VERIFY THE NONCE\n",
    "\n",
    "def get_account_nonce(address):\n",
    "    url = f\"https://devnet-api.multiversx.com/accounts/{address}\"\n",
    "    try:\n",
    "        response = request.get(url)\n",
    "        if response.status_code == 200:\n",
    "            account_data = response.json()\n",
    "            return account_data.get('nonce', None)\n",
    "        else:\n",
    "            print(f\"Failed to fetch data. Status code: {response.status_code}\")\n",
    "            return None\n",
    "    except Exception as e:\n",
    "        print(f\"An error occurred: {e}\")\n",
    "        return None\n",
    "\n",
    "sender_address = \"erd122huqjpnv8zw0d83pqh6hsyh4lyh4ghx8m0l729ntmvtqxchfpeqcjqyad\"\n",
    "current_nonce = get_account_nonce(sender_address)\n",
    "print(\"Current Nonce of the Sender Account:\", current_nonce)\n",
    "\n"
   ]
  },
  {
   "cell_type": "markdown",
   "metadata": {},
   "source": [
    "CARD ATTRIBUTES"
   ]
  },
  {
   "cell_type": "code",
   "execution_count": 10,
   "metadata": {},
   "outputs": [
    {
     "ename": "IndexError",
     "evalue": "list index out of range",
     "output_type": "error",
     "traceback": [
      "\u001b[1;31m---------------------------------------------------------------------------\u001b[0m",
      "\u001b[1;31mIndexError\u001b[0m                                Traceback (most recent call last)",
      "Cell \u001b[1;32mIn[10], line 2\u001b[0m\n\u001b[0;32m      1\u001b[0m transaction_on_network \u001b[38;5;241m=\u001b[39m network_provider\u001b[38;5;241m.\u001b[39mget_transaction(HASH_VAL)\n\u001b[1;32m----> 2\u001b[0m response_data \u001b[38;5;241m=\u001b[39m \u001b[43mtransaction_on_network\u001b[49m\u001b[38;5;241;43m.\u001b[39;49m\u001b[43mcontract_results\u001b[49m\u001b[38;5;241;43m.\u001b[39;49m\u001b[43mitems\u001b[49m\u001b[43m[\u001b[49m\u001b[38;5;241;43m0\u001b[39;49m\u001b[43m]\u001b[49m\u001b[38;5;241m.\u001b[39mdata\n\u001b[0;32m      4\u001b[0m raw_attributes \u001b[38;5;241m=\u001b[39m response_data\u001b[38;5;241m.\u001b[39msplit(\u001b[38;5;124m'\u001b[39m\u001b[38;5;124m@\u001b[39m\u001b[38;5;124m'\u001b[39m)[\u001b[38;5;241m2\u001b[39m]\n\u001b[0;32m      5\u001b[0m card_attributes \u001b[38;5;241m=\u001b[39m [\u001b[38;5;28mint\u001b[39m(raw_attributes[i]) \u001b[38;5;28;01mfor\u001b[39;00m i \u001b[38;5;129;01min\u001b[39;00m \u001b[38;5;28mrange\u001b[39m(\u001b[38;5;241m1\u001b[39m, \u001b[38;5;28mlen\u001b[39m(raw_attributes), \u001b[38;5;241m2\u001b[39m)]\n",
      "\u001b[1;31mIndexError\u001b[0m: list index out of range"
     ]
    }
   ],
   "source": [
    "transaction_on_network = network_provider.get_transaction(HASH_VAL)\n",
    "response_data = transaction_on_network.contract_results.items[0].data\n",
    "\n",
    "raw_attributes = response_data.split('@')[2]\n",
    "card_attributes = [int(raw_attributes[i]) for i in range(1, len(raw_attributes), 2)]\n",
    "\n",
    "print(card_attributes)"
   ]
  },
  {
   "cell_type": "code",
   "execution_count": 11,
   "metadata": {},
   "outputs": [
    {
     "ename": "NameError",
     "evalue": "name 'card_attributes' is not defined",
     "output_type": "error",
     "traceback": [
      "\u001b[1;31m---------------------------------------------------------------------------\u001b[0m",
      "\u001b[1;31mNameError\u001b[0m                                 Traceback (most recent call last)",
      "Cell \u001b[1;32mIn[11], line 33\u001b[0m\n\u001b[0;32m     29\u001b[0m         card_power \u001b[38;5;241m=\u001b[39m CardProperties\u001b[38;5;241m.\u001b[39mpower_mapping\u001b[38;5;241m.\u001b[39mget(attributes[\u001b[38;5;241m2\u001b[39m], \u001b[38;5;124m\"\u001b[39m\u001b[38;5;124mInvalid Power\u001b[39m\u001b[38;5;124m\"\u001b[39m)\n\u001b[0;32m     31\u001b[0m         \u001b[38;5;28;01mreturn\u001b[39;00m \u001b[38;5;124mf\u001b[39m\u001b[38;5;124m\"\u001b[39m\u001b[38;5;130;01m{{\u001b[39;00m\u001b[38;5;132;01m{\u001b[39;00mcard_class\u001b[38;5;132;01m}\u001b[39;00m\u001b[38;5;124m, \u001b[39m\u001b[38;5;132;01m{\u001b[39;00mcard_rarity\u001b[38;5;132;01m}\u001b[39;00m\u001b[38;5;124m, \u001b[39m\u001b[38;5;132;01m{\u001b[39;00mcard_power\u001b[38;5;132;01m}\u001b[39;00m\u001b[38;5;130;01m}}\u001b[39;00m\u001b[38;5;124m\"\u001b[39m\n\u001b[1;32m---> 33\u001b[0m CARD_attributes \u001b[38;5;241m=\u001b[39m  \u001b[43mcard_attributes\u001b[49m\n\u001b[0;32m     34\u001b[0m result \u001b[38;5;241m=\u001b[39m CardProperties\u001b[38;5;241m.\u001b[39minterpret(CARD_attributes)\n\u001b[0;32m     35\u001b[0m \u001b[38;5;28mprint\u001b[39m(result)\n",
      "\u001b[1;31mNameError\u001b[0m: name 'card_attributes' is not defined"
     ]
    }
   ],
   "source": [
    "class CardProperties:\n",
    "    class_mapping = {\n",
    "        0: \"Warrior\",\n",
    "        1: \"Mage\",\n",
    "        2: \"Rogue\",\n",
    "        3: \"Priest\",\n",
    "        4: \"Hunter\",\n",
    "        5: \"Warlock\",\n",
    "        6: \"Shaman\",\n",
    "        7: \"Druid\",\n",
    "        8: \"Paladin\",\n",
    "    }\n",
    "    rarity_mapping = {\n",
    "        0: \"Common\",\n",
    "        1: \"Rare\",\n",
    "        2: \"Epic\",\n",
    "        3: \"Legendary\",\n",
    "    }\n",
    "    power_mapping = {\n",
    "        0: \"Low\",\n",
    "        1: \"Medium\",\n",
    "        2: \"High\",\n",
    "    }\n",
    "\n",
    "    @staticmethod\n",
    "    def interpret(attributes):\n",
    "        card_class = CardProperties.class_mapping.get(attributes[0], \"Invalid Class\")\n",
    "        card_rarity = CardProperties.rarity_mapping.get(attributes[1], \"Invalid Rarity\")\n",
    "        card_power = CardProperties.power_mapping.get(attributes[2], \"Invalid Power\")\n",
    "\n",
    "        return f\"{{{card_class}, {card_rarity}, {card_power}}}\"\n",
    "    \n",
    "CARD_attributes =  card_attributes\n",
    "result = CardProperties.interpret(CARD_attributes)\n",
    "print(result)\n"
   ]
  },
  {
   "cell_type": "markdown",
   "metadata": {},
   "source": [
    "QUERY SMART CONTRACT"
   ]
  },
  {
   "cell_type": "code",
   "execution_count": 81,
   "metadata": {},
   "outputs": [
    {
     "name": "stdout",
     "output_type": "stream",
     "text": [
      "63\n"
     ]
    }
   ],
   "source": [
    "query = query_control.create_query(\n",
    "    contract=contract_bech32.to_bech32(),\n",
    "    function=\"nftSupply\",\n",
    "    arguments=[],\n",
    ")\n",
    "response = query_control.run_query(query)\n",
    "data_parts = query_control.parse_query_response(response)\n",
    "BYTE_SEQUENCE_DELIMITER = b\"\\x00\\x00\\x00\\x03\"\n",
    "\n",
    "cards = []\n",
    "for data in data_parts:\n",
    "    decoded_string = data.decode(\"utf-8\", errors=\"ignore\") \n",
    "\n",
    "    if BYTE_SEQUENCE_DELIMITER in data:\n",
    "       split_data = data.partition(BYTE_SEQUENCE_DELIMITER)[2] \n",
    "       cards.append([split_data[0], split_data[1], split_data[2]])\n",
    "\n",
    "card_nonce = -1\n",
    "\n",
    "for index in range(len(cards)):\n",
    "    if cards[index] == card_attributes:\n",
    "        card_nonce = index +1\n",
    "        break\n",
    "\n",
    "print(card_nonce)"
   ]
  },
  {
   "cell_type": "markdown",
   "metadata": {},
   "source": [
    "NFT \n"
   ]
  },
  {
   "cell_type": "markdown",
   "metadata": {},
   "source": [
    "CREATE NFT COLLECTION\n"
   ]
  },
  {
   "cell_type": "code",
   "execution_count": 82,
   "metadata": {},
   "outputs": [
    {
     "name": "stdout",
     "output_type": "stream",
     "text": [
      "Transaction hash :3e03a4c5242e122b3da23f32ba11aa5816fec8f190192480bc1ccccc0729ff80\n"
     ]
    }
   ],
   "source": [
    "ACCOUNT_DETAILS = network_provider.get_account(sender_bech32)\n",
    "NONCE_index = AccountNonceHolder(ACCOUNT_DETAILS.nonce)\n",
    "\n",
    "data = (\n",
    "    f\"issueNonFungible@{COLLECTION_NAME.encode('utf-8').hex()}\"\n",
    "    f\"@{COLLECTION_TICKER.encode('utf-8').hex()}\"\n",
    ")\n",
    "\n",
    "transaction = Transaction (\n",
    "    sender=sender_bech32.bech32(),\n",
    "    receiver=metachain_address.bech32(),\n",
    "    value=50000000000000000,\n",
    "    gas_limit=500000000,\n",
    "    data=data.encode(\"UTF-8\"),\n",
    "    chain_id=config_network.chain_id,\n",
    ")\n",
    "transaction.nonce = NONCE_index.get_nonce_then_increment()\n",
    "transaction.signature = signer.sign(tc.compute_bytes_for_signing(transaction))\n",
    "hash_col = network_provider.send_transaction(transaction)\n",
    "\n",
    "print(\"Transaction hash :\" + hash_col)\n"
   ]
  },
  {
   "cell_type": "markdown",
   "metadata": {},
   "source": [
    "GET COLLECTION"
   ]
  },
  {
   "cell_type": "code",
   "execution_count": 89,
   "metadata": {},
   "outputs": [
    {
     "name": "stdout",
     "output_type": "stream",
     "text": [
      "RMD-454671\n"
     ]
    }
   ],
   "source": [
    "transaction_on_network = network_provider.get_transaction(hash_col)\n",
    "response_data = transaction_on_network.contract_results.items\n",
    "\n",
    "collection = None\n",
    "\n",
    "for i in response_data:\n",
    "    if \"ESDTSetTokenType\" in i.data:\n",
    "        col_hex = i.data.split(\"@\")[1]\n",
    "        collection = bytes.fromhex(col_hex).decode(\"UTF-8\")\n",
    "        break  \n",
    "\n",
    "print(collection)"
   ]
  },
  {
   "cell_type": "markdown",
   "metadata": {},
   "source": [
    "ADD ROLES TO COLECTION"
   ]
  },
  {
   "cell_type": "code",
   "execution_count": 90,
   "metadata": {},
   "outputs": [
    {
     "name": "stdout",
     "output_type": "stream",
     "text": [
      "Hash Role:  27ac4d54c29ca4fe9620db3c1ecd3a7411e8950ab135b15d756e166d966ce57a\n"
     ]
    }
   ],
   "source": [
    "ESDTRoleNFTCreate = \"45534454526f6c654e4654437265617465\" \n",
    "\n",
    "data = (\n",
    "    f\"setSpecialRole@{col_hex}\"\n",
    "    f\"@{sender_bech32.hex()}\"\n",
    "    f\"@{ESDTRoleNFTCreate}\"\n",
    ")\n",
    "\n",
    "transaction = Transaction(\n",
    "    sender=sender_bech32.bech32(),\n",
    "    receiver=metachain_address.bech32(),\n",
    "    value=0,\n",
    "    gas_limit=60000000,\n",
    "    data=data.encode(\"utf-8\"),\n",
    "    chain_id=config_network.chain_id,\n",
    ")\n",
    "\n",
    "transaction.nonce = NONCE_index.get_nonce_then_increment()\n",
    "transaction.signature = signer.sign(tc.compute_bytes_for_signing(transaction))\n",
    "hash_role = network_provider.send_transaction(transaction)\n",
    "\n",
    "print(f\"Hash Role:  {hash_role}\")"
   ]
  },
  {
   "cell_type": "markdown",
   "metadata": {},
   "source": [
    "NFT CREATION"
   ]
  },
  {
   "cell_type": "code",
   "execution_count": null,
   "metadata": {},
   "outputs": [
    {
     "name": "stdout",
     "output_type": "stream",
     "text": [
      "cf2b003140bd0fa552fa6d604da023dd9cd1f820b13061b120f4df154d11088f\n"
     ]
    }
   ],
   "source": [
    "Class = card_attributes[0]\n",
    "Rarity = card_attributes[1]\n",
    "Power = card_attributes[2]\n",
    "\n",
    "quantity = 1\n",
    "royalties = \"07d0\"\n",
    "hash = \"\"\n",
    "Attributes = \"{:02x}{:02x}{:02x}\".format(Class, Rarity, Power)\n",
    "\n",
    "account_details = network_provider.get_account(sender_bech32)\n",
    "NONCE_index = AccountNonceHolder(account_details.nonce)\n",
    "\n",
    "data = (\n",
    "    f\"ESDTNFTCreate@{col_hex}\"\n",
    "    f\"@{quantity:02x}\"\n",
    "    f\"@{NFT_NAME.encode('utf-8').hex()}\"\n",
    "    f\"@{royalties}\"\n",
    "    f\"@{hash}\"\n",
    "    f\"@{Attributes}\"\n",
    "    f\"@{URI.encode('utf-8').hex()}\"\n",
    ")\n",
    "\n",
    "transaction = Transaction(\n",
    "    sender=sender_bech32.bech32(),\n",
    "    receiver=sender_bech32.bech32(),\n",
    "    value=0,\n",
    "    gas_limit=10000000,\n",
    "    data=data.encode(\"UTF-8\"),\n",
    "    chain_id=config_network.chain_id\n",
    ")\n",
    "\n",
    "transaction.nonce = NONCE_index.get_nonce_then_increment()\n",
    "transaction.signature = signer.sign(tc.compute_bytes_for_signing(transaction))\n",
    "created_NFT = network_provider.send_transaction(transaction)\n",
    "\n",
    "print(created_NFT)"
   ]
  },
  {
   "cell_type": "markdown",
   "metadata": {},
   "source": [
    "GET NFT "
   ]
  },
  {
   "cell_type": "code",
   "execution_count": 104,
   "metadata": {},
   "outputs": [
    {
     "name": "stdout",
     "output_type": "stream",
     "text": [
      "01\n"
     ]
    }
   ],
   "source": [
    "transaction_on_network = network_provider.get_transaction(created_NFT)\n",
    "data = transaction_on_network.contract_results.items[0].data\n",
    "NFT_nonce = data.split(\"@\")[2]\n",
    "print(NFT_nonce)\n"
   ]
  },
  {
   "cell_type": "markdown",
   "metadata": {},
   "source": [
    "TRADING NFT\n"
   ]
  },
  {
   "cell_type": "code",
   "execution_count": null,
   "metadata": {},
   "outputs": [],
   "source": [
    "metadata = \"exchangeNft\".encode(\"utf-8\").hex()\n",
    "acc_details = network_provider.get_account(sender_bech32)\n",
    "nonce_holder = AccountNonceHolder(acc_details.nonce)\n",
    "\n",
    "data = (\n",
    "    f\"ESDTNFTTransfer@{col_hex}\"\n",
    "    f\"@{NFT_nonce}\"\n",
    "    f\"@{1:02x}\"\n",
    "    f\"@{contract_bech32.hex()}\"\n",
    "    f\"@{metadata}\"\n",
    "    f\"@{card_nonce:02x}\"\n",
    ")\n",
    "\n",
    "transaction = Transaction(\n",
    "\n",
    "    sender=sender_bech32.bech32(),\n",
    "    receiver=sender_bech32.bech32(),\n",
    "    value=0,\n",
    "    gas_limit=100000000,\n",
    "    chain_id=config_network.chain_id,\n",
    "    data=data.encode(\"UTF-8\")\n",
    ")\n",
    "\n",
    "transaction.nonce = nonce_holder.get_nonce_then_increment()\n",
    "transaction.signature = signer.sign(tc.compute_bytes_for_signing(transaction))\n",
    "NFT_TRANSFER_HASH = network_provider.send_transaction(transaction)\n",
    "\n",
    "print(NFT_TRANSFER_HASH)\n"
   ]
  },
  {
   "cell_type": "markdown",
   "metadata": {},
   "source": [
    "NFT_TRANSFER_HASH : 6d5d2547b5e5639abc9a20aa391b5ae1fdcb6410e24f7f833f667d5484840671"
   ]
  },
  {
   "cell_type": "markdown",
   "metadata": {},
   "source": [
    "Verification for assignment"
   ]
  },
  {
   "attachments": {
    "image.png": {
     "image/png": "[encoded data removed]"
    }
   },
   "cell_type": "markdown",
   "metadata": {},
   "source": [
    "![image.png](attachment:image.png)"
   ]
  }
 ],
 "metadata": {
  "kernelspec": {
   "display_name": "Python 3",
   "language": "python",
   "name": "python3"
  },
  "language_info": {
   "codemirror_mode": {
    "name": "ipython",
    "version": 3
   },
   "file_extension": ".py",
   "mimetype": "text/x-python",
   "name": "python",
   "nbconvert_exporter": "python",
   "pygments_lexer": "ipython3",
   "version": "3.13.0"
  }
 },
 "nbformat": 4,
 "nbformat_minor": 2
}
